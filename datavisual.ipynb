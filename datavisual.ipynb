{
 "cells": [
  {
   "cell_type": "code",
   "execution_count": 35,
   "id": "9da74fe5",
   "metadata": {},
   "outputs": [],
   "source": [
    "import SimpleITK as sitk\n",
    "import torch\n",
    "from scripts.datasetloader import testing_ds,val_transforms\n",
    "from models.Basic3DUnet import *\n",
    "from monai.data import DataLoader, decollate_batch\n",
    "from monai.transforms import AsDiscrete, Compose, Invertd\n",
    "from collections import OrderedDict\n",
    "from monai.inferers import sliding_window_inference\n",
    "\n",
    "from monai.transforms import (\n",
    "    AsDiscreted,\n",
    "    Compose,\n",
    "    Invertd,\n",
    "    SaveImaged,\n",
    "    EnsureTyped\n",
    ")"
   ]
  },
  {
   "cell_type": "code",
   "execution_count": null,
   "id": "1a4a7c96",
   "metadata": {},
   "outputs": [
    {
     "ename": "",
     "evalue": "",
     "output_type": "error",
     "traceback": [
      "\u001b[1;31mThe Kernel crashed while executing code in the current cell or a previous cell. \n",
      "\u001b[1;31mPlease review the code in the cell(s) to identify a possible cause of the failure. \n",
      "\u001b[1;31mClick <a href='https://aka.ms/vscodeJupyterKernelCrash'>here</a> for more info. \n",
      "\u001b[1;31mView Jupyter <a href='command:jupyter.viewOutput'>log</a> for further details."
     ]
    }
   ],
   "source": [
    "post_transforms = Compose([\n",
    "    EnsureTyped(keys=\"pred\"),\n",
    "    # Invert the preprocessing transforms to map the prediction back to the original image space\n",
    "    Invertd(\n",
    "        keys=\"pred\",\n",
    "        transform=val_transforms,\n",
    "        orig_keys=\"image\",\n",
    "        meta_keys=\"pred_meta_dict\",\n",
    "        orig_meta_keys=\"image_meta_dict\",\n",
    "        meta_key_postfix=\"meta_dict\",\n",
    "        nearest_interp=True, # Use nearest neighbor for segmentations\n",
    "        to_tensor=True,\n",
    "    ),\n",
    "    # Convert the model's logit outputs to a final, discrete label map (0, 1, etc.)\n",
    "    AsDiscreted(keys=\"pred\", argmax=True),\n",
    "])"
   ]
  },
  {
   "cell_type": "code",
   "execution_count": null,
   "id": "2ae8038e",
   "metadata": {},
   "outputs": [
    {
     "name": "stderr",
     "output_type": "stream",
     "text": [
      "  0%|          | 0/1 [00:00<?, ?it/s]/blue/uf-dsi/normansmith/.conda/envs/ThreeDSeg/lib/python3.11/site-packages/monai/inferers/utils.py:222: UserWarning: Using a non-tuple sequence for multidimensional indexing is deprecated and will be changed in pytorch 2.9; use x[tuple(seq)] instead of x[seq]. In pytorch 2.9 this will be interpreted as tensor index, x[torch.tensor(seq)], which will result either in an error or a different result (Triggered internally at /pytorch/torch/csrc/autograd/python_variable_indexing.cpp:306.)\n",
      "  win_data = torch.cat([inputs[win_slice] for win_slice in unravel_slice]).to(sw_device)\n"
     ]
    }
   ],
   "source": [
    "device = torch.device('cuda' if torch.cuda.is_available() else 'cpu')\n",
    "model = Basic3DUnet(1, 2, 0).to(device)\n",
    "model_weightpath = '/home/normansmith/blue_storage/projects/3DSegmentationLearning/final_models/basicUnet.pth'\n",
    "\n",
    "\n",
    "state_dict = torch.load(model_weightpath, map_location=device)\n",
    "\n",
    "\n",
    "new_state_dict = OrderedDict()\n",
    "\n",
    "\n",
    "for k, v in state_dict.items():\n",
    "    new_key = k.replace('module.', '') \n",
    "    new_state_dict[new_key] = v\n",
    "\n",
    "\n",
    "model.load_state_dict(new_state_dict)\n",
    "\n",
    "\n",
    "model.eval()\n",
    "test_loader = DataLoader(testing_ds, batch_size=1, shuffle=False, num_workers=1)\n",
    "outputdir = \"/home/normansmith/blue_storage/projects/3DSegmentationLearning/visualizationexamples\"\n",
    "saver = SaveImaged(\n",
    "    keys=\"pred\",\n",
    "    meta_keys=\"pred_meta_dict\", # Use the metadata dictionary created by Invertd\n",
    "    output_dir=outputdir,\n",
    "    output_postfix=\"seg\", # Appends \"_seg\" to the original filename\n",
    "    resample=False # Do not resample, use the original affine\n",
    ")\n",
    "with torch.no_grad():\n",
    "    for test_data in (test_loader):\n",
    "        test_inputs = test_data[\"image\"].to(device)\n",
    "\n",
    "        # Perform sliding window inference\n",
    "        test_data[\"pred\"] = sliding_window_inference(\n",
    "            inputs=test_inputs,\n",
    "            roi_size=(96, 96, 96),\n",
    "            sw_batch_size=4,\n",
    "            predictor=model,\n",
    "            device=device, # Specify device for inference\n",
    "            progress=True\n",
    "        )\n",
    "\n",
    "        # `decollate_batch` separates the batch of 1 back into a list of dictionaries\n",
    "        test_data = decollate_batch(test_data)\n",
    "\n",
    "        # Now apply the post-processing transforms on the CPU\n",
    "        # `d` is a dictionary containing \"image\", \"label\", \"pred\", and metadata\n",
    "        d = post_transforms(test_data[0])\n",
    "\n",
    "        # The saver transform now takes this dictionary and saves the \"pred\" key to a file\n",
    "        saver(d)\n",
    "\n",
    "print(f\"\\nInference complete. Segmentations saved to: {outputdir}\")\n"
   ]
  },
  {
   "cell_type": "code",
   "execution_count": null,
   "id": "ea459dc2",
   "metadata": {},
   "outputs": [],
   "source": []
  }
 ],
 "metadata": {
  "kernelspec": {
   "display_name": "Python 3 (ipykernel)",
   "language": "python",
   "name": "python3"
  },
  "language_info": {
   "codemirror_mode": {
    "name": "ipython",
    "version": 3
   },
   "file_extension": ".py",
   "mimetype": "text/x-python",
   "name": "python",
   "nbconvert_exporter": "python",
   "pygments_lexer": "ipython3",
   "version": "3.10.12"
  }
 },
 "nbformat": 4,
 "nbformat_minor": 5
}
